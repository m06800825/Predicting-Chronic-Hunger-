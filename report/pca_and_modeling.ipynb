{
 "cells": [
  {
   "cell_type": "code",
   "execution_count": 1,
   "metadata": {},
   "outputs": [
    {
     "name": "stderr",
     "output_type": "stream",
     "text": [
      "C:\\Tools\\Anaconda3\\lib\\site-packages\\h5py\\__init__.py:36: FutureWarning: Conversion of the second argument of issubdtype from `float` to `np.floating` is deprecated. In future, it will be treated as `np.float64 == np.dtype(float).type`.\n",
      "  from ._conv import register_converters as _register_converters\n",
      "Using TensorFlow backend.\n"
     ]
    }
   ],
   "source": [
    "import pandas as pd\n",
    "import numpy as np\n",
    "import matplotlib\n",
    "import matplotlib.pyplot as plt\n",
    "import seaborn as sns\n",
    "from fancyimpute import mice\n",
    "from fancyimpute import KNN, NuclearNormMinimization, SoftImpute, IterativeImputer, BiScaler\n",
    "from sklearn.preprocessing import Imputer\n",
    "from xgboost import XGBRegressor\n",
    "from sklearn.model_selection import GridSearchCV\n",
    "import math\n",
    "import sklearn.metrics as sklm\n",
    "from sklearn.feature_selection import VarianceThreshold\n",
    "from sklearn.feature_selection import RFECV\n",
    "from sklearn.ensemble import RandomForestRegressor\n",
    "from sklearn.decomposition import PCA"
   ]
  },
  {
   "cell_type": "code",
   "execution_count": 2,
   "metadata": {},
   "outputs": [
    {
     "name": "stdout",
     "output_type": "stream",
     "text": [
      "(1401,)\n",
      "(1401, 16)\n"
     ]
    }
   ],
   "source": [
    "df_train_x = pd.read_csv('../data/train_new.csv')\n",
    "\n",
    "df_train_y = df_train_x.iloc[:, -1]\n",
    "df_train_x = df_train_x.iloc[:, :-1]\n",
    "\n",
    "print(df_train_y.shape)\n",
    "print(df_train_x.shape)"
   ]
  },
  {
   "cell_type": "code",
   "execution_count": 3,
   "metadata": {},
   "outputs": [
    {
     "data": {
      "text/plain": [
       "(616, 16)"
      ]
     },
     "execution_count": 3,
     "metadata": {},
     "output_type": "execute_result"
    }
   ],
   "source": [
    "df_test = pd.read_csv('../data/test_x_new.csv')\n",
    "df_test.shape"
   ]
  },
  {
   "cell_type": "markdown",
   "metadata": {},
   "source": [
    "# PCA"
   ]
  },
  {
   "cell_type": "code",
   "execution_count": null,
   "metadata": {},
   "outputs": [],
   "source": [
    "def pca_reduce(df):\n",
    "    pca = PCA(n_components=10)\n",
    "    pca = pca.fit(df)\n",
    "    \n",
    "    unit_vec = pca.components_ #得到投影之單位向量\n",
    "    # print('單位向量:', unit_vec)\n",
    "    \n",
    "    reduced_data = pca.transform(df)\n",
    "    print('降維後資料:', reduced_data.shape)\n",
    "    \n",
    "    return reduced_data"
   ]
  },
  {
   "cell_type": "code",
   "execution_count": null,
   "metadata": {},
   "outputs": [],
   "source": [
    "# df_train_x = pca_reduce(df_train_x)\n",
    "# df_train_x.shape"
   ]
  },
  {
   "cell_type": "code",
   "execution_count": null,
   "metadata": {},
   "outputs": [],
   "source": [
    "# df_test = pca_reduce(df_test)\n",
    "# df_test.shape"
   ]
  },
  {
   "cell_type": "markdown",
   "metadata": {},
   "source": [
    "# Modeling"
   ]
  },
  {
   "cell_type": "code",
   "execution_count": 4,
   "metadata": {},
   "outputs": [
    {
     "name": "stdout",
     "output_type": "stream",
     "text": [
      "(1120, 16)\n",
      "(1120,)\n",
      "(281, 16)\n",
      "(281,)\n"
     ]
    }
   ],
   "source": [
    "# Split train to 80% for training and 20% for validation\n",
    "from sklearn.model_selection import train_test_split\n",
    "\n",
    "train_x, test_x, train_y, test_y = train_test_split(df_train_x, df_train_y.values, test_size=0.2)\n",
    "print(train_x.shape)\n",
    "print(train_y.shape)\n",
    "print(test_x.shape)\n",
    "print(test_y.shape)"
   ]
  },
  {
   "cell_type": "markdown",
   "metadata": {},
   "source": [
    "### Random Forest"
   ]
  },
  {
   "cell_type": "code",
   "execution_count": 5,
   "metadata": {},
   "outputs": [
    {
     "name": "stdout",
     "output_type": "stream",
     "text": [
      "Root Mean Square Error = 2.8300049508508383\n"
     ]
    }
   ],
   "source": [
    "# random forest\n",
    "def rf_modeling(train_x, train_y):\n",
    "    rf = RandomForestRegressor()\n",
    "    param_grid = { \n",
    "    'bootstrap': [True],\n",
    "    'max_depth': [80, 90, 100, 110],\n",
    "    'max_features': [2, 3],\n",
    "    'min_samples_leaf': [3, 4, 5],\n",
    "    'min_samples_split': [8, 10, 12],\n",
    "    'n_estimators': [100, 200, 300, 1000]\n",
    "    }\n",
    "\n",
    "    grid_rf = GridSearchCV(rf, param_grid, n_jobs=-1, cv=5)\n",
    "    forest_model = grid_rf.fit(train_x, train_y)\n",
    "    \n",
    "    return forest_model\n",
    "\n",
    "\n",
    "forest_model = rf_modeling(train_x, train_y)\n",
    "y_pred = forest_model.predict(test_x)\n",
    "\n",
    "print('Root Mean Square Error = ' + str(math.sqrt(sklm.mean_squared_error(test_y, y_pred))))"
   ]
  },
  {
   "cell_type": "code",
   "execution_count": 6,
   "metadata": {},
   "outputs": [
    {
     "data": {
      "text/plain": [
       "(616,)"
      ]
     },
     "execution_count": 6,
     "metadata": {},
     "output_type": "execute_result"
    }
   ],
   "source": [
    "rf_result = forest_model.predict(df_test)\n",
    "rf_result.shape"
   ]
  },
  {
   "cell_type": "code",
   "execution_count": 7,
   "metadata": {},
   "outputs": [],
   "source": [
    "pd.Series(rf_result).to_csv('rf_result.csv', index=False)"
   ]
  },
  {
   "cell_type": "markdown",
   "metadata": {},
   "source": [
    "### XGBoost"
   ]
  },
  {
   "cell_type": "code",
   "execution_count": null,
   "metadata": {},
   "outputs": [],
   "source": [
    "# XGBoost\n",
    "def xgb_modeling(train_x, train_y):\n",
    "    xgb_reg = XGBRegressor(n_estimators=100, max_depth=10,learning_rate=0.01,random_state=100,subsample=0.8)\n",
    "    params = {'min_child_weight':[4,5], 'gamma':[i/10.0 for i in range(3,6)],  'subsample':[i/10.0 for i in range(6,11)],\n",
    "              'colsample_bytree':[i/10.0 for i in range(6,11)], 'max_depth': [2,3,4]}\n",
    "    grid = GridSearchCV(xgb_reg, params,scoring='neg_mean_squared_error',cv=5)\n",
    "    \n",
    "    xgb_model = grid.fit(train_x, train_y)\n",
    "    return xgb_model\n",
    "\n",
    "\n",
    "xgb_model = xgb_modeling(train_x, train_y)\n",
    "y_pred = xgb_model.predict(test_x)\n",
    "\n",
    "print('Root Mean Square Error = ' + str(math.sqrt(sklm.mean_squared_error(test_y, y_pred))))"
   ]
  },
  {
   "cell_type": "code",
   "execution_count": null,
   "metadata": {},
   "outputs": [],
   "source": [
    "xgb_result = xgb_model.predict(df_test)\n",
    "xgb_result.shape"
   ]
  },
  {
   "cell_type": "code",
   "execution_count": null,
   "metadata": {},
   "outputs": [],
   "source": [
    "pd.Series(xgb_result).to_csv('xgb_result.csv', index=False)"
   ]
  }
 ],
 "metadata": {
  "kernelspec": {
   "display_name": "Python 3",
   "language": "python",
   "name": "python3"
  },
  "language_info": {
   "codemirror_mode": {
    "name": "ipython",
    "version": 3
   },
   "file_extension": ".py",
   "mimetype": "text/x-python",
   "name": "python",
   "nbconvert_exporter": "python",
   "pygments_lexer": "ipython3",
   "version": "3.6.4"
  }
 },
 "nbformat": 4,
 "nbformat_minor": 2
}
