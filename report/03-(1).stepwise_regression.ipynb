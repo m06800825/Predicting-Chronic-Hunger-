{
 "cells": [
  {
   "cell_type": "markdown",
   "metadata": {},
   "source": [
    "# About\n",
    "https://blog.csdn.net/carlwu/article/details/80017560"
   ]
  },
  {
   "cell_type": "code",
   "execution_count": 1,
   "metadata": {},
   "outputs": [],
   "source": [
    "import statsmodels.formula.api as smf\n",
    "import pandas as pd\n",
    "import numpy as np\n",
    "import math\n",
    "import sklearn.metrics as sklm\n",
    "from sklearn.model_selection import train_test_split"
   ]
  },
  {
   "cell_type": "code",
   "execution_count": 2,
   "metadata": {},
   "outputs": [],
   "source": [
    "df_train = pd.read_csv('../data/train_dt.csv', index_col='row_id', encoding='utf8')\n",
    "df_test = pd.read_csv('../data/test_x_dt.csv', index_col='row_id', encoding='utf8')\n",
    "\n",
    "df_submission = pd.read_csv('../data/submission_format_klDJt5C.csv', index_col='row_id')"
   ]
  },
  {
   "cell_type": "markdown",
   "metadata": {},
   "source": [
    "---  \n",
    "## Split train to 80% for training and 20% for validation"
   ]
  },
  {
   "cell_type": "code",
   "execution_count": 3,
   "metadata": {},
   "outputs": [
    {
     "name": "stdout",
     "output_type": "stream",
     "text": [
      "(1120, 55)\n",
      "(281, 55)\n"
     ]
    }
   ],
   "source": [
    "train, test = train_test_split(df_train, test_size = 0.2)\n",
    "\n",
    "print(train.shape)\n",
    "print(test.shape)"
   ]
  },
  {
   "cell_type": "markdown",
   "metadata": {},
   "source": [
    "---\n",
    "## Stepwise selected"
   ]
  },
  {
   "cell_type": "code",
   "execution_count": 4,
   "metadata": {},
   "outputs": [],
   "source": [
    "def forward_selected(data, response):\n",
    "    \"\"\"\n",
    "    前向逐步回归算法，源代码来自https://planspace.org/20150423-forward_selection_with_statsmodels/\n",
    "    使用Adjusted R-squared来评判新加的参数是否提高回归中的统计显著性\n",
    "    Linear model designed by forward selection.\n",
    "    Parameters:\n",
    "    -----------\n",
    "    data : pandas DataFrame with all possible predictors and response\n",
    "    response: string, name of response column in data\n",
    "    Returns:\n",
    "    --------\n",
    "    model: an \"optimal\" fitted statsmodels linear model\n",
    "           with an intercept\n",
    "           selected by forward selection\n",
    "           evaluated by adjusted R-squared\n",
    "    \"\"\"\n",
    "    remaining = set(data.columns)\n",
    "    remaining.remove(response)\n",
    "    selected = []\n",
    "    current_score, best_new_score = 0.0, 0.0\n",
    "    while remaining and current_score == best_new_score:\n",
    "        scores_with_candidates = []\n",
    "        for candidate in remaining:\n",
    "            formula = \"{} ~ {} + 1\".format(response,\n",
    "                                           ' + '.join(selected + [candidate]))\n",
    "            score = smf.ols(formula, data).fit().rsquared_adj\n",
    "            scores_with_candidates.append((score, candidate))\n",
    "        scores_with_candidates.sort()\n",
    "        best_new_score, best_candidate = scores_with_candidates.pop()\n",
    "        if current_score < best_new_score:\n",
    "            remaining.remove(best_candidate)\n",
    "            selected.append(best_candidate)\n",
    "            current_score = best_new_score\n",
    "    formula = \"{} ~ {} + 1\".format(response,\n",
    "                                   ' + '.join(selected))\n",
    "    model = smf.ols(formula, data).fit()\n",
    " \n",
    "    return model"
   ]
  },
  {
   "cell_type": "code",
   "execution_count": 5,
   "metadata": {},
   "outputs": [],
   "source": [
    "# building model\n",
    "model = forward_selected(train, 'prevalence_of_undernourishment')"
   ]
  },
  {
   "cell_type": "markdown",
   "metadata": {},
   "source": [
    "---  \n",
    "## Model info"
   ]
  },
  {
   "cell_type": "code",
   "execution_count": 6,
   "metadata": {},
   "outputs": [
    {
     "name": "stdout",
     "output_type": "stream",
     "text": [
      "prevalence_of_undernourishment ~ access_to_improved_water_sources + obesity_prevalence + caloric_energy_from_cereals_roots_tubers + avg_supply_of_protein_of_animal_origin + avg_value_of_food_production + net_oda_received_percent_gni + anemia_prevalence + cereal_import_dependency_ratio + total_population + trade_in_services + political_stability + access_to_electricity + fertility_rate + food_imports_as_share_of_merch_exports + life_expectancy + tax_revenue_share_gdp + year_2000 + percentage_of_arable_land_equipped_for_irrigation + total_land_area + gross_domestic_product_per_capita_ppp + year_2001 + open_defecation + total_labor_force + urban_population + per_capita_food_supply_variability + population_growth + year_2002 + year_2003 + net_oda_received_per_capita + year_2015 + year_2004 + year_2014 + school_enrollment_rate_total + 1\n"
     ]
    }
   ],
   "source": [
    "# formula\n",
    "print(model.model.formula)"
   ]
  },
  {
   "cell_type": "code",
   "execution_count": 7,
   "metadata": {},
   "outputs": [
    {
     "name": "stdout",
     "output_type": "stream",
     "text": [
      "Intercept                                            9.017487e+01\n",
      "access_to_improved_water_sources                    -3.362405e-01\n",
      "obesity_prevalence                                  -2.825832e-01\n",
      "caloric_energy_from_cereals_roots_tubers            -4.218417e-01\n",
      "avg_supply_of_protein_of_animal_origin              -2.655431e-01\n",
      "avg_value_of_food_production                        -2.162782e-02\n",
      "net_oda_received_percent_gni                        -1.875953e-02\n",
      "anemia_prevalence                                   -1.063353e-01\n",
      "cereal_import_dependency_ratio                      -3.870433e-02\n",
      "total_population                                    -5.318556e-09\n",
      "trade_in_services                                    5.630474e-02\n",
      "political_stability                                 -1.725703e+00\n",
      "access_to_electricity                               -1.440195e-01\n",
      "fertility_rate                                      -2.220163e+00\n",
      "food_imports_as_share_of_merch_exports               1.547511e-02\n",
      "life_expectancy                                      1.193191e-01\n",
      "tax_revenue_share_gdp                               -1.219306e-01\n",
      "year_2000                                            2.526233e+00\n",
      "percentage_of_arable_land_equipped_for_irrigation    3.058279e-02\n",
      "total_land_area                                      2.211728e-06\n",
      "gross_domestic_product_per_capita_ppp               -5.360933e-05\n",
      "year_2001                                            2.028214e+00\n",
      "open_defecation                                      6.294130e-02\n",
      "total_labor_force                                   -1.464240e-08\n",
      "urban_population                                    -1.280136e-07\n",
      "per_capita_food_supply_variability                   1.570069e-02\n",
      "population_growth                                    3.883623e-01\n",
      "year_2002                                            1.589533e+00\n",
      "year_2003                                            1.516206e+00\n",
      "net_oda_received_per_capita                          4.723305e-03\n",
      "year_2015                                            1.238589e+00\n",
      "year_2004                                            1.041133e+00\n",
      "year_2014                                            9.984789e-01\n",
      "school_enrollment_rate_total                         2.863802e-02\n",
      "dtype: float64 \n",
      "\n",
      "34\n"
     ]
    }
   ],
   "source": [
    "# params\n",
    "print(model.params, '\\n')\n",
    "print(model.params.count())"
   ]
  },
  {
   "cell_type": "code",
   "execution_count": 8,
   "metadata": {},
   "outputs": [
    {
     "name": "stdout",
     "output_type": "stream",
     "text": [
      "0.6952024622647044\n"
     ]
    }
   ],
   "source": [
    "# rsquared\n",
    "print(model.rsquared_adj)"
   ]
  },
  {
   "cell_type": "markdown",
   "metadata": {},
   "source": [
    "---  \n",
    "##  Predict Valuation Data"
   ]
  },
  {
   "cell_type": "code",
   "execution_count": 9,
   "metadata": {},
   "outputs": [
    {
     "data": {
      "text/plain": [
       "(281,)"
      ]
     },
     "execution_count": 9,
     "metadata": {},
     "output_type": "execute_result"
    }
   ],
   "source": [
    "y_pred = model.predict(test)\n",
    "y_pred.shape"
   ]
  },
  {
   "cell_type": "code",
   "execution_count": 10,
   "metadata": {},
   "outputs": [
    {
     "data": {
      "text/plain": [
       "(281,)"
      ]
     },
     "execution_count": 10,
     "metadata": {},
     "output_type": "execute_result"
    }
   ],
   "source": [
    "test_y = test['prevalence_of_undernourishment']\n",
    "test_y.shape"
   ]
  },
  {
   "cell_type": "code",
   "execution_count": 11,
   "metadata": {},
   "outputs": [
    {
     "name": "stdout",
     "output_type": "stream",
     "text": [
      "Root Mean Square Error = 6.693316388652166\n"
     ]
    }
   ],
   "source": [
    "print('Root Mean Square Error = ' + str(math.sqrt(sklm.mean_squared_error(test_y, y_pred))))"
   ]
  },
  {
   "cell_type": "markdown",
   "metadata": {},
   "source": [
    "---  \n",
    "##  Predict Test Data"
   ]
  },
  {
   "cell_type": "code",
   "execution_count": 12,
   "metadata": {},
   "outputs": [
    {
     "name": "stdout",
     "output_type": "stream",
     "text": [
      "0.6845598436059108\n"
     ]
    }
   ],
   "source": [
    "# building model by whole train data\n",
    "model = forward_selected(df_train, 'prevalence_of_undernourishment')\n",
    "\n",
    "print(model.rsquared_adj)"
   ]
  },
  {
   "cell_type": "code",
   "execution_count": 17,
   "metadata": {},
   "outputs": [
    {
     "data": {
      "text/plain": [
       "(616,)"
      ]
     },
     "execution_count": 17,
     "metadata": {},
     "output_type": "execute_result"
    }
   ],
   "source": [
    "stepwise_res = model.predict(df_test)\n",
    "stepwise_res.shape"
   ]
  },
  {
   "cell_type": "code",
   "execution_count": 20,
   "metadata": {},
   "outputs": [],
   "source": [
    "# export result to csv\n",
    "df_submission['prevalence_of_undernourishment'] = pd.Series(stepwise_res)\n",
    "df_submission.to_csv('stepwise_result.csv', index=True)"
   ]
  },
  {
   "cell_type": "markdown",
   "metadata": {},
   "source": [
    "---  \n",
    "## Summary"
   ]
  },
  {
   "cell_type": "code",
   "execution_count": null,
   "metadata": {},
   "outputs": [],
   "source": []
  }
 ],
 "metadata": {
  "kernelspec": {
   "display_name": "Python 3",
   "language": "python",
   "name": "python3"
  },
  "language_info": {
   "codemirror_mode": {
    "name": "ipython",
    "version": 3
   },
   "file_extension": ".py",
   "mimetype": "text/x-python",
   "name": "python",
   "nbconvert_exporter": "python",
   "pygments_lexer": "ipython3",
   "version": "3.6.5"
  }
 },
 "nbformat": 4,
 "nbformat_minor": 2
}
